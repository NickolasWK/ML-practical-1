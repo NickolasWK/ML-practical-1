{
 "cells": [
  {
   "metadata": {},
   "cell_type": "markdown",
   "source": "## Установка и импорт всех библиотек и модулей",
   "id": "173f423c5a026930"
  },
  {
   "cell_type": "code",
   "id": "initial_id",
   "metadata": {
    "collapsed": true,
    "ExecuteTime": {
     "end_time": "2025-05-05T13:28:24.808353Z",
     "start_time": "2025-05-05T13:28:24.803044Z"
    }
   },
   "source": [
    "def warn(*args, **kwargs):\n",
    "    pass\n",
    "import warnings\n",
    "warnings.warn = warn\n",
    "\n",
    "import pandas as pd\n",
    "import numpy as np\n",
    "import matplotlib.pyplot as plt\n",
    "import seaborn as sns\n",
    "\n",
    "from sklearn.model_selection import KFold\n",
    "from sklearn.linear_model import LogisticRegression\n",
    "from sklearn.tree import DecisionTreeClassifier\n",
    "from sklearn.neighbors import KNeighborsClassifier\n",
    "from sklearn.ensemble import RandomForestClassifier, GradientBoostingClassifier\n",
    "from sklearn.neural_network import MLPClassifier\n",
    "from sklearn.metrics import roc_auc_score, precision_score, recall_score, roc_curve, accuracy_score\n",
    "from sklearn.model_selection import train_test_split\n",
    "from sklearn.preprocessing import LabelEncoder"
   ],
   "outputs": [],
   "execution_count": 544
  },
  {
   "metadata": {},
   "cell_type": "markdown",
   "source": [
    "## Работа с данными: предобработка и анализ.\n",
    "Выведем начальную информацию по набору данных. Заполним пустые значения и заменим строковые значения на числовые для лучшей работы модели. Исключим лишние метрики. Разделим пассажиров по возрастным группам и изучим корелляцию таргета (Survived) с другими показателями."
   ],
   "id": "2be9f841bbf1fbdc"
  },
  {
   "metadata": {
    "ExecuteTime": {
     "end_time": "2025-05-05T13:28:24.826318Z",
     "start_time": "2025-05-05T13:28:24.814573Z"
    }
   },
   "cell_type": "code",
   "source": [
    "dataset = pd.read_csv(\"titanic.csv\")\n",
    "print(dataset.info())\n",
    "\n",
    "age_med = dataset.Age.median()\n",
    "max_embarked = dataset.groupby('Embarked').count()['PassengerId']\n",
    "dataset.Embarked[dataset.Embarked.isnull()] = max_embarked[max_embarked == max_embarked.max()].index[0]\n",
    "\n",
    "label = LabelEncoder()\n",
    "dicts = {}"
   ],
   "id": "f66f7338d2af21ed",
   "outputs": [
    {
     "name": "stdout",
     "output_type": "stream",
     "text": [
      "<class 'pandas.core.frame.DataFrame'>\n",
      "RangeIndex: 891 entries, 0 to 890\n",
      "Data columns (total 12 columns):\n",
      " #   Column       Non-Null Count  Dtype  \n",
      "---  ------       --------------  -----  \n",
      " 0   PassengerId  891 non-null    int64  \n",
      " 1   Survived     891 non-null    int64  \n",
      " 2   Pclass       891 non-null    int64  \n",
      " 3   Name         891 non-null    object \n",
      " 4   Sex          891 non-null    object \n",
      " 5   Age          714 non-null    float64\n",
      " 6   SibSp        891 non-null    int64  \n",
      " 7   Parch        891 non-null    int64  \n",
      " 8   Ticket       891 non-null    object \n",
      " 9   Fare         891 non-null    float64\n",
      " 10  Cabin        204 non-null    object \n",
      " 11  Embarked     889 non-null    object \n",
      "dtypes: float64(2), int64(5), object(5)\n",
      "memory usage: 83.7+ KB\n",
      "None\n"
     ]
    }
   ],
   "execution_count": 545
  },
  {
   "metadata": {
    "ExecuteTime": {
     "end_time": "2025-05-05T13:28:24.941983Z",
     "start_time": "2025-05-05T13:28:24.855862Z"
    }
   },
   "cell_type": "code",
   "source": [
    "dataset.pivot_table('PassengerId', 'Pclass', 'Survived', 'count').plot(kind='bar', stacked=True)\n",
    "youngDF = dataset.loc[dataset['Age'] > 18]\n",
    "oldDF = dataset.loc[dataset['Age'] <= 18]"
   ],
   "id": "7d10adcc3bfe43f7",
   "outputs": [
    {
     "data": {
      "text/plain": [
       "<Figure size 640x480 with 1 Axes>"
      ],
      "image/png": "[encoded data removed]"
     },
     "metadata": {},
     "output_type": "display_data"
    }
   ],
   "execution_count": 546
  },
  {
   "metadata": {
    "ExecuteTime": {
     "end_time": "2025-05-05T13:28:24.978699Z",
     "start_time": "2025-05-05T13:28:24.971099Z"
    }
   },
   "cell_type": "code",
   "source": "youngDF.corr(method='pearson', numeric_only=True)",
   "id": "92a04579c6686d49",
   "outputs": [
    {
     "data": {
      "text/plain": [
       "             PassengerId  Survived    Pclass       Age     SibSp     Parch  \\\n",
       "PassengerId     1.000000  0.025025 -0.022699  0.041049 -0.030099  0.012967   \n",
       "Survived        0.025025  1.000000 -0.381785  0.009912  0.124156  0.060932   \n",
       "Pclass         -0.022699 -0.381785  1.000000 -0.358249 -0.164504 -0.017953   \n",
       "Age             0.041049  0.009912 -0.358249  1.000000 -0.013270  0.064012   \n",
       "SibSp          -0.030099  0.124156 -0.164504 -0.013270  1.000000  0.263071   \n",
       "Parch           0.012967  0.060932 -0.017953  0.064012  0.263071  1.000000   \n",
       "Fare            0.007387  0.291697 -0.541642  0.116731  0.233582  0.213692   \n",
       "\n",
       "                 Fare  \n",
       "PassengerId  0.007387  \n",
       "Survived     0.291697  \n",
       "Pclass      -0.541642  \n",
       "Age          0.116731  \n",
       "SibSp        0.233582  \n",
       "Parch        0.213692  \n",
       "Fare         1.000000  "
      ],
      "text/html": [
       "<div>\n",
       "<style scoped>\n",
       "    .dataframe tbody tr th:only-of-type {\n",
       "        vertical-align: middle;\n",
       "    }\n",
       "\n",
       "    .dataframe tbody tr th {\n",
       "        vertical-align: top;\n",
       "    }\n",
       "\n",
       "    .dataframe thead th {\n",
       "        text-align: right;\n",
       "    }\n",
       "</style>\n",
       "<table border=\"1\" class=\"dataframe\">\n",
       "  <thead>\n",
       "    <tr style=\"text-align: right;\">\n",
       "      <th></th>\n",
       "      <th>PassengerId</th>\n",
       "      <th>Survived</th>\n",
       "      <th>Pclass</th>\n",
       "      <th>Age</th>\n",
       "      <th>SibSp</th>\n",
       "      <th>Parch</th>\n",
       "      <th>Fare</th>\n",
       "    </tr>\n",
       "  </thead>\n",
       "  <tbody>\n",
       "    <tr>\n",
       "      <th>PassengerId</th>\n",
       "      <td>1.000000</td>\n",
       "      <td>0.025025</td>\n",
       "      <td>-0.022699</td>\n",
       "      <td>0.041049</td>\n",
       "      <td>-0.030099</td>\n",
       "      <td>0.012967</td>\n",
       "      <td>0.007387</td>\n",
       "    </tr>\n",
       "    <tr>\n",
       "      <th>Survived</th>\n",
       "      <td>0.025025</td>\n",
       "      <td>1.000000</td>\n",
       "      <td>-0.381785</td>\n",
       "      <td>0.009912</td>\n",
       "      <td>0.124156</td>\n",
       "      <td>0.060932</td>\n",
       "      <td>0.291697</td>\n",
       "    </tr>\n",
       "    <tr>\n",
       "      <th>Pclass</th>\n",
       "      <td>-0.022699</td>\n",
       "      <td>-0.381785</td>\n",
       "      <td>1.000000</td>\n",
       "      <td>-0.358249</td>\n",
       "      <td>-0.164504</td>\n",
       "      <td>-0.017953</td>\n",
       "      <td>-0.541642</td>\n",
       "    </tr>\n",
       "    <tr>\n",
       "      <th>Age</th>\n",
       "      <td>0.041049</td>\n",
       "      <td>0.009912</td>\n",
       "      <td>-0.358249</td>\n",
       "      <td>1.000000</td>\n",
       "      <td>-0.013270</td>\n",
       "      <td>0.064012</td>\n",
       "      <td>0.116731</td>\n",
       "    </tr>\n",
       "    <tr>\n",
       "      <th>SibSp</th>\n",
       "      <td>-0.030099</td>\n",
       "      <td>0.124156</td>\n",
       "      <td>-0.164504</td>\n",
       "      <td>-0.013270</td>\n",
       "      <td>1.000000</td>\n",
       "      <td>0.263071</td>\n",
       "      <td>0.233582</td>\n",
       "    </tr>\n",
       "    <tr>\n",
       "      <th>Parch</th>\n",
       "      <td>0.012967</td>\n",
       "      <td>0.060932</td>\n",
       "      <td>-0.017953</td>\n",
       "      <td>0.064012</td>\n",
       "      <td>0.263071</td>\n",
       "      <td>1.000000</td>\n",
       "      <td>0.213692</td>\n",
       "    </tr>\n",
       "    <tr>\n",
       "      <th>Fare</th>\n",
       "      <td>0.007387</td>\n",
       "      <td>0.291697</td>\n",
       "      <td>-0.541642</td>\n",
       "      <td>0.116731</td>\n",
       "      <td>0.233582</td>\n",
       "      <td>0.213692</td>\n",
       "      <td>1.000000</td>\n",
       "    </tr>\n",
       "  </tbody>\n",
       "</table>\n",
       "</div>"
      ]
     },
     "execution_count": 547,
     "metadata": {},
     "output_type": "execute_result"
    }
   ],
   "execution_count": 547
  },
  {
   "metadata": {
    "ExecuteTime": {
     "end_time": "2025-05-05T13:28:25.038571Z",
     "start_time": "2025-05-05T13:28:25.030526Z"
    }
   },
   "cell_type": "code",
   "source": "oldDF.corr(method='pearson', numeric_only=True)",
   "id": "5ec110080ffc2df9",
   "outputs": [
    {
     "data": {
      "text/plain": [
       "             PassengerId  Survived    Pclass       Age     SibSp     Parch  \\\n",
       "PassengerId     1.000000  0.048611 -0.092984  0.068023 -0.188624 -0.098788   \n",
       "Survived        0.048611  1.000000 -0.422752 -0.239028 -0.355708  0.097627   \n",
       "Pclass         -0.092984 -0.422752  1.000000 -0.068641  0.282444 -0.101611   \n",
       "Age             0.068023 -0.239028 -0.068641  1.000000 -0.340685 -0.520813   \n",
       "SibSp          -0.188624 -0.355708  0.282444 -0.340685  1.000000  0.465241   \n",
       "Parch          -0.098788  0.097627 -0.101611 -0.520813  0.465241  1.000000   \n",
       "Fare            0.020898  0.174147 -0.695696  0.024859  0.098891  0.268733   \n",
       "\n",
       "                 Fare  \n",
       "PassengerId  0.020898  \n",
       "Survived     0.174147  \n",
       "Pclass      -0.695696  \n",
       "Age          0.024859  \n",
       "SibSp        0.098891  \n",
       "Parch        0.268733  \n",
       "Fare         1.000000  "
      ],
      "text/html": [
       "<div>\n",
       "<style scoped>\n",
       "    .dataframe tbody tr th:only-of-type {\n",
       "        vertical-align: middle;\n",
       "    }\n",
       "\n",
       "    .dataframe tbody tr th {\n",
       "        vertical-align: top;\n",
       "    }\n",
       "\n",
       "    .dataframe thead th {\n",
       "        text-align: right;\n",
       "    }\n",
       "</style>\n",
       "<table border=\"1\" class=\"dataframe\">\n",
       "  <thead>\n",
       "    <tr style=\"text-align: right;\">\n",
       "      <th></th>\n",
       "      <th>PassengerId</th>\n",
       "      <th>Survived</th>\n",
       "      <th>Pclass</th>\n",
       "      <th>Age</th>\n",
       "      <th>SibSp</th>\n",
       "      <th>Parch</th>\n",
       "      <th>Fare</th>\n",
       "    </tr>\n",
       "  </thead>\n",
       "  <tbody>\n",
       "    <tr>\n",
       "      <th>PassengerId</th>\n",
       "      <td>1.000000</td>\n",
       "      <td>0.048611</td>\n",
       "      <td>-0.092984</td>\n",
       "      <td>0.068023</td>\n",
       "      <td>-0.188624</td>\n",
       "      <td>-0.098788</td>\n",
       "      <td>0.020898</td>\n",
       "    </tr>\n",
       "    <tr>\n",
       "      <th>Survived</th>\n",
       "      <td>0.048611</td>\n",
       "      <td>1.000000</td>\n",
       "      <td>-0.422752</td>\n",
       "      <td>-0.239028</td>\n",
       "      <td>-0.355708</td>\n",
       "      <td>0.097627</td>\n",
       "      <td>0.174147</td>\n",
       "    </tr>\n",
       "    <tr>\n",
       "      <th>Pclass</th>\n",
       "      <td>-0.092984</td>\n",
       "      <td>-0.422752</td>\n",
       "      <td>1.000000</td>\n",
       "      <td>-0.068641</td>\n",
       "      <td>0.282444</td>\n",
       "      <td>-0.101611</td>\n",
       "      <td>-0.695696</td>\n",
       "    </tr>\n",
       "    <tr>\n",
       "      <th>Age</th>\n",
       "      <td>0.068023</td>\n",
       "      <td>-0.239028</td>\n",
       "      <td>-0.068641</td>\n",
       "      <td>1.000000</td>\n",
       "      <td>-0.340685</td>\n",
       "      <td>-0.520813</td>\n",
       "      <td>0.024859</td>\n",
       "    </tr>\n",
       "    <tr>\n",
       "      <th>SibSp</th>\n",
       "      <td>-0.188624</td>\n",
       "      <td>-0.355708</td>\n",
       "      <td>0.282444</td>\n",
       "      <td>-0.340685</td>\n",
       "      <td>1.000000</td>\n",
       "      <td>0.465241</td>\n",
       "      <td>0.098891</td>\n",
       "    </tr>\n",
       "    <tr>\n",
       "      <th>Parch</th>\n",
       "      <td>-0.098788</td>\n",
       "      <td>0.097627</td>\n",
       "      <td>-0.101611</td>\n",
       "      <td>-0.520813</td>\n",
       "      <td>0.465241</td>\n",
       "      <td>1.000000</td>\n",
       "      <td>0.268733</td>\n",
       "    </tr>\n",
       "    <tr>\n",
       "      <th>Fare</th>\n",
       "      <td>0.020898</td>\n",
       "      <td>0.174147</td>\n",
       "      <td>-0.695696</td>\n",
       "      <td>0.024859</td>\n",
       "      <td>0.098891</td>\n",
       "      <td>0.268733</td>\n",
       "      <td>1.000000</td>\n",
       "    </tr>\n",
       "  </tbody>\n",
       "</table>\n",
       "</div>"
      ]
     },
     "execution_count": 548,
     "metadata": {},
     "output_type": "execute_result"
    }
   ],
   "execution_count": 548
  },
  {
   "metadata": {
    "ExecuteTime": {
     "end_time": "2025-05-05T13:28:25.320485Z",
     "start_time": "2025-05-05T13:28:25.091917Z"
    }
   },
   "cell_type": "code",
   "source": [
    "fig, axes = plt.subplots(ncols=2)\n",
    "oldDF.pivot_table('PassengerId', ['SibSp'], 'Survived', 'count').plot(ax=axes[0], title='SibSp')\n",
    "oldDF.pivot_table('PassengerId', ['Parch'], 'Survived', 'count').plot(ax=axes[1], title='Parch')"
   ],
   "id": "3e39e4c4f8184591",
   "outputs": [
    {
     "data": {
      "text/plain": [
       "<Axes: title={'center': 'Parch'}, xlabel='Parch'>"
      ]
     },
     "execution_count": 549,
     "metadata": {},
     "output_type": "execute_result"
    },
    {
     "data": {
      "text/plain": [
       "<Figure size 640x480 with 2 Axes>"
      ],
      "image/png": "[encoded data removed]"
     },
     "metadata": {},
     "output_type": "display_data"
    }
   ],
   "execution_count": 549
  },
  {
   "metadata": {},
   "cell_type": "markdown",
   "source": [
    "Как можем видеть в обоих случаях, вероятность спасения кореллирует с социальным классом. Среди молодых людей до 18 лет наблюдается некоторый уровень связи с ценой билета (чем дороже, тем выше шансы). Также среди взрослых наблюдается корелляция с числом родственников второго порядка (чем их больше, тем меньше шанс выжить).\n",
    "\n",
    "Проведём аналогичное исследование по социальному классу"
   ],
   "id": "7ff5a5004e9b16a0"
  },
  {
   "metadata": {
    "ExecuteTime": {
     "end_time": "2025-05-05T13:28:25.348573Z",
     "start_time": "2025-05-05T13:28:25.343819Z"
    }
   },
   "cell_type": "code",
   "source": [
    "firstclassDF = dataset.loc[dataset['Pclass'] == 1]\n",
    "secondclassDF = dataset.loc[dataset['Pclass'] == 2]\n",
    "thirdclassDF = dataset.loc[dataset['Pclass'] == 3]"
   ],
   "id": "2784f048f3a86098",
   "outputs": [],
   "execution_count": 550
  },
  {
   "metadata": {
    "ExecuteTime": {
     "end_time": "2025-05-05T13:28:25.400089Z",
     "start_time": "2025-05-05T13:28:25.390837Z"
    }
   },
   "cell_type": "code",
   "source": "firstclassDF.corr(method='pearson', numeric_only=True)",
   "id": "5888c316cd4e146",
   "outputs": [
    {
     "data": {
      "text/plain": [
       "             PassengerId  Survived  Pclass       Age     SibSp     Parch  \\\n",
       "PassengerId     1.000000  0.159824     NaN -0.003969 -0.055167 -0.026157   \n",
       "Survived        0.159824  1.000000     NaN -0.267964  0.162276  0.062565   \n",
       "Pclass               NaN       NaN     NaN       NaN       NaN       NaN   \n",
       "Age            -0.003969 -0.267964     NaN  1.000000 -0.121015 -0.243613   \n",
       "SibSp          -0.055167  0.162276     NaN -0.121015  1.000000  0.261954   \n",
       "Parch          -0.026157  0.062565     NaN -0.243613  0.261954  1.000000   \n",
       "Fare           -0.026348  0.190966     NaN -0.218611  0.259492  0.380963   \n",
       "\n",
       "                 Fare  \n",
       "PassengerId -0.026348  \n",
       "Survived     0.190966  \n",
       "Pclass            NaN  \n",
       "Age         -0.218611  \n",
       "SibSp        0.259492  \n",
       "Parch        0.380963  \n",
       "Fare         1.000000  "
      ],
      "text/html": [
       "<div>\n",
       "<style scoped>\n",
       "    .dataframe tbody tr th:only-of-type {\n",
       "        vertical-align: middle;\n",
       "    }\n",
       "\n",
       "    .dataframe tbody tr th {\n",
       "        vertical-align: top;\n",
       "    }\n",
       "\n",
       "    .dataframe thead th {\n",
       "        text-align: right;\n",
       "    }\n",
       "</style>\n",
       "<table border=\"1\" class=\"dataframe\">\n",
       "  <thead>\n",
       "    <tr style=\"text-align: right;\">\n",
       "      <th></th>\n",
       "      <th>PassengerId</th>\n",
       "      <th>Survived</th>\n",
       "      <th>Pclass</th>\n",
       "      <th>Age</th>\n",
       "      <th>SibSp</th>\n",
       "      <th>Parch</th>\n",
       "      <th>Fare</th>\n",
       "    </tr>\n",
       "  </thead>\n",
       "  <tbody>\n",
       "    <tr>\n",
       "      <th>PassengerId</th>\n",
       "      <td>1.000000</td>\n",
       "      <td>0.159824</td>\n",
       "      <td>NaN</td>\n",
       "      <td>-0.003969</td>\n",
       "      <td>-0.055167</td>\n",
       "      <td>-0.026157</td>\n",
       "      <td>-0.026348</td>\n",
       "    </tr>\n",
       "    <tr>\n",
       "      <th>Survived</th>\n",
       "      <td>0.159824</td>\n",
       "      <td>1.000000</td>\n",
       "      <td>NaN</td>\n",
       "      <td>-0.267964</td>\n",
       "      <td>0.162276</td>\n",
       "      <td>0.062565</td>\n",
       "      <td>0.190966</td>\n",
       "    </tr>\n",
       "    <tr>\n",
       "      <th>Pclass</th>\n",
       "      <td>NaN</td>\n",
       "      <td>NaN</td>\n",
       "      <td>NaN</td>\n",
       "      <td>NaN</td>\n",
       "      <td>NaN</td>\n",
       "      <td>NaN</td>\n",
       "      <td>NaN</td>\n",
       "    </tr>\n",
       "    <tr>\n",
       "      <th>Age</th>\n",
       "      <td>-0.003969</td>\n",
       "      <td>-0.267964</td>\n",
       "      <td>NaN</td>\n",
       "      <td>1.000000</td>\n",
       "      <td>-0.121015</td>\n",
       "      <td>-0.243613</td>\n",
       "      <td>-0.218611</td>\n",
       "    </tr>\n",
       "    <tr>\n",
       "      <th>SibSp</th>\n",
       "      <td>-0.055167</td>\n",
       "      <td>0.162276</td>\n",
       "      <td>NaN</td>\n",
       "      <td>-0.121015</td>\n",
       "      <td>1.000000</td>\n",
       "      <td>0.261954</td>\n",
       "      <td>0.259492</td>\n",
       "    </tr>\n",
       "    <tr>\n",
       "      <th>Parch</th>\n",
       "      <td>-0.026157</td>\n",
       "      <td>0.062565</td>\n",
       "      <td>NaN</td>\n",
       "      <td>-0.243613</td>\n",
       "      <td>0.261954</td>\n",
       "      <td>1.000000</td>\n",
       "      <td>0.380963</td>\n",
       "    </tr>\n",
       "    <tr>\n",
       "      <th>Fare</th>\n",
       "      <td>-0.026348</td>\n",
       "      <td>0.190966</td>\n",
       "      <td>NaN</td>\n",
       "      <td>-0.218611</td>\n",
       "      <td>0.259492</td>\n",
       "      <td>0.380963</td>\n",
       "      <td>1.000000</td>\n",
       "    </tr>\n",
       "  </tbody>\n",
       "</table>\n",
       "</div>"
      ]
     },
     "execution_count": 551,
     "metadata": {},
     "output_type": "execute_result"
    }
   ],
   "execution_count": 551
  },
  {
   "metadata": {
    "ExecuteTime": {
     "end_time": "2025-05-05T13:28:25.440349Z",
     "start_time": "2025-05-05T13:28:25.431985Z"
    }
   },
   "cell_type": "code",
   "source": "secondclassDF.corr(method='pearson', numeric_only=True)",
   "id": "d52a2a8f8bd03052",
   "outputs": [
    {
     "data": {
      "text/plain": [
       "             PassengerId  Survived  Pclass       Age     SibSp     Parch  \\\n",
       "PassengerId     1.000000 -0.026030     NaN  0.039077  0.079737  0.077052   \n",
       "Survived       -0.026030  1.000000     NaN -0.273507  0.145340  0.361793   \n",
       "Pclass               NaN       NaN     NaN       NaN       NaN       NaN   \n",
       "Age             0.039077 -0.273507     NaN  1.000000 -0.210424 -0.300814   \n",
       "SibSp           0.079737  0.145340     NaN -0.210424  1.000000  0.326626   \n",
       "Parch           0.077052  0.361793     NaN -0.300814  0.326626  1.000000   \n",
       "Fare            0.021281  0.098628     NaN -0.197038  0.546093  0.373920   \n",
       "\n",
       "                 Fare  \n",
       "PassengerId  0.021281  \n",
       "Survived     0.098628  \n",
       "Pclass            NaN  \n",
       "Age         -0.197038  \n",
       "SibSp        0.546093  \n",
       "Parch        0.373920  \n",
       "Fare         1.000000  "
      ],
      "text/html": [
       "<div>\n",
       "<style scoped>\n",
       "    .dataframe tbody tr th:only-of-type {\n",
       "        vertical-align: middle;\n",
       "    }\n",
       "\n",
       "    .dataframe tbody tr th {\n",
       "        vertical-align: top;\n",
       "    }\n",
       "\n",
       "    .dataframe thead th {\n",
       "        text-align: right;\n",
       "    }\n",
       "</style>\n",
       "<table border=\"1\" class=\"dataframe\">\n",
       "  <thead>\n",
       "    <tr style=\"text-align: right;\">\n",
       "      <th></th>\n",
       "      <th>PassengerId</th>\n",
       "      <th>Survived</th>\n",
       "      <th>Pclass</th>\n",
       "      <th>Age</th>\n",
       "      <th>SibSp</th>\n",
       "      <th>Parch</th>\n",
       "      <th>Fare</th>\n",
       "    </tr>\n",
       "  </thead>\n",
       "  <tbody>\n",
       "    <tr>\n",
       "      <th>PassengerId</th>\n",
       "      <td>1.000000</td>\n",
       "      <td>-0.026030</td>\n",
       "      <td>NaN</td>\n",
       "      <td>0.039077</td>\n",
       "      <td>0.079737</td>\n",
       "      <td>0.077052</td>\n",
       "      <td>0.021281</td>\n",
       "    </tr>\n",
       "    <tr>\n",
       "      <th>Survived</th>\n",
       "      <td>-0.026030</td>\n",
       "      <td>1.000000</td>\n",
       "      <td>NaN</td>\n",
       "      <td>-0.273507</td>\n",
       "      <td>0.145340</td>\n",
       "      <td>0.361793</td>\n",
       "      <td>0.098628</td>\n",
       "    </tr>\n",
       "    <tr>\n",
       "      <th>Pclass</th>\n",
       "      <td>NaN</td>\n",
       "      <td>NaN</td>\n",
       "      <td>NaN</td>\n",
       "      <td>NaN</td>\n",
       "      <td>NaN</td>\n",
       "      <td>NaN</td>\n",
       "      <td>NaN</td>\n",
       "    </tr>\n",
       "    <tr>\n",
       "      <th>Age</th>\n",
       "      <td>0.039077</td>\n",
       "      <td>-0.273507</td>\n",
       "      <td>NaN</td>\n",
       "      <td>1.000000</td>\n",
       "      <td>-0.210424</td>\n",
       "      <td>-0.300814</td>\n",
       "      <td>-0.197038</td>\n",
       "    </tr>\n",
       "    <tr>\n",
       "      <th>SibSp</th>\n",
       "      <td>0.079737</td>\n",
       "      <td>0.145340</td>\n",
       "      <td>NaN</td>\n",
       "      <td>-0.210424</td>\n",
       "      <td>1.000000</td>\n",
       "      <td>0.326626</td>\n",
       "      <td>0.546093</td>\n",
       "    </tr>\n",
       "    <tr>\n",
       "      <th>Parch</th>\n",
       "      <td>0.077052</td>\n",
       "      <td>0.361793</td>\n",
       "      <td>NaN</td>\n",
       "      <td>-0.300814</td>\n",
       "      <td>0.326626</td>\n",
       "      <td>1.000000</td>\n",
       "      <td>0.373920</td>\n",
       "    </tr>\n",
       "    <tr>\n",
       "      <th>Fare</th>\n",
       "      <td>0.021281</td>\n",
       "      <td>0.098628</td>\n",
       "      <td>NaN</td>\n",
       "      <td>-0.197038</td>\n",
       "      <td>0.546093</td>\n",
       "      <td>0.373920</td>\n",
       "      <td>1.000000</td>\n",
       "    </tr>\n",
       "  </tbody>\n",
       "</table>\n",
       "</div>"
      ]
     },
     "execution_count": 552,
     "metadata": {},
     "output_type": "execute_result"
    }
   ],
   "execution_count": 552
  },
  {
   "metadata": {
    "ExecuteTime": {
     "end_time": "2025-05-05T13:28:25.510374Z",
     "start_time": "2025-05-05T13:28:25.502277Z"
    }
   },
   "cell_type": "code",
   "source": "thirdclassDF.corr(method='pearson', numeric_only=True)",
   "id": "d035d9d0813791bc",
   "outputs": [
    {
     "data": {
      "text/plain": [
       "             PassengerId  Survived  Pclass       Age     SibSp     Parch  \\\n",
       "PassengerId     1.000000 -0.096550     NaN  0.034886 -0.080127 -0.014438   \n",
       "Survived       -0.096550  1.000000     NaN -0.202102 -0.073339  0.017257   \n",
       "Pclass               NaN       NaN     NaN       NaN       NaN       NaN   \n",
       "Age             0.034886 -0.202102     NaN  1.000000 -0.435763 -0.138434   \n",
       "SibSp          -0.080127 -0.073339     NaN -0.435763  1.000000  0.464733   \n",
       "Parch          -0.014438  0.017257     NaN -0.138434  0.464733  1.000000   \n",
       "Fare            0.002053  0.000930     NaN -0.260315  0.766003  0.585265   \n",
       "\n",
       "                 Fare  \n",
       "PassengerId  0.002053  \n",
       "Survived     0.000930  \n",
       "Pclass            NaN  \n",
       "Age         -0.260315  \n",
       "SibSp        0.766003  \n",
       "Parch        0.585265  \n",
       "Fare         1.000000  "
      ],
      "text/html": [
       "<div>\n",
       "<style scoped>\n",
       "    .dataframe tbody tr th:only-of-type {\n",
       "        vertical-align: middle;\n",
       "    }\n",
       "\n",
       "    .dataframe tbody tr th {\n",
       "        vertical-align: top;\n",
       "    }\n",
       "\n",
       "    .dataframe thead th {\n",
       "        text-align: right;\n",
       "    }\n",
       "</style>\n",
       "<table border=\"1\" class=\"dataframe\">\n",
       "  <thead>\n",
       "    <tr style=\"text-align: right;\">\n",
       "      <th></th>\n",
       "      <th>PassengerId</th>\n",
       "      <th>Survived</th>\n",
       "      <th>Pclass</th>\n",
       "      <th>Age</th>\n",
       "      <th>SibSp</th>\n",
       "      <th>Parch</th>\n",
       "      <th>Fare</th>\n",
       "    </tr>\n",
       "  </thead>\n",
       "  <tbody>\n",
       "    <tr>\n",
       "      <th>PassengerId</th>\n",
       "      <td>1.000000</td>\n",
       "      <td>-0.096550</td>\n",
       "      <td>NaN</td>\n",
       "      <td>0.034886</td>\n",
       "      <td>-0.080127</td>\n",
       "      <td>-0.014438</td>\n",
       "      <td>0.002053</td>\n",
       "    </tr>\n",
       "    <tr>\n",
       "      <th>Survived</th>\n",
       "      <td>-0.096550</td>\n",
       "      <td>1.000000</td>\n",
       "      <td>NaN</td>\n",
       "      <td>-0.202102</td>\n",
       "      <td>-0.073339</td>\n",
       "      <td>0.017257</td>\n",
       "      <td>0.000930</td>\n",
       "    </tr>\n",
       "    <tr>\n",
       "      <th>Pclass</th>\n",
       "      <td>NaN</td>\n",
       "      <td>NaN</td>\n",
       "      <td>NaN</td>\n",
       "      <td>NaN</td>\n",
       "      <td>NaN</td>\n",
       "      <td>NaN</td>\n",
       "      <td>NaN</td>\n",
       "    </tr>\n",
       "    <tr>\n",
       "      <th>Age</th>\n",
       "      <td>0.034886</td>\n",
       "      <td>-0.202102</td>\n",
       "      <td>NaN</td>\n",
       "      <td>1.000000</td>\n",
       "      <td>-0.435763</td>\n",
       "      <td>-0.138434</td>\n",
       "      <td>-0.260315</td>\n",
       "    </tr>\n",
       "    <tr>\n",
       "      <th>SibSp</th>\n",
       "      <td>-0.080127</td>\n",
       "      <td>-0.073339</td>\n",
       "      <td>NaN</td>\n",
       "      <td>-0.435763</td>\n",
       "      <td>1.000000</td>\n",
       "      <td>0.464733</td>\n",
       "      <td>0.766003</td>\n",
       "    </tr>\n",
       "    <tr>\n",
       "      <th>Parch</th>\n",
       "      <td>-0.014438</td>\n",
       "      <td>0.017257</td>\n",
       "      <td>NaN</td>\n",
       "      <td>-0.138434</td>\n",
       "      <td>0.464733</td>\n",
       "      <td>1.000000</td>\n",
       "      <td>0.585265</td>\n",
       "    </tr>\n",
       "    <tr>\n",
       "      <th>Fare</th>\n",
       "      <td>0.002053</td>\n",
       "      <td>0.000930</td>\n",
       "      <td>NaN</td>\n",
       "      <td>-0.260315</td>\n",
       "      <td>0.766003</td>\n",
       "      <td>0.585265</td>\n",
       "      <td>1.000000</td>\n",
       "    </tr>\n",
       "  </tbody>\n",
       "</table>\n",
       "</div>"
      ]
     },
     "execution_count": 553,
     "metadata": {},
     "output_type": "execute_result"
    }
   ],
   "execution_count": 553
  },
  {
   "metadata": {},
   "cell_type": "markdown",
   "source": "Как можем видеть, у пассажиров из среднего социального класса выживаемость кореллирует с числом родственников первого порядка",
   "id": "5d176f5931881d30"
  },
  {
   "metadata": {
    "ExecuteTime": {
     "end_time": "2025-05-05T13:28:25.584536Z",
     "start_time": "2025-05-05T13:28:25.576709Z"
    }
   },
   "cell_type": "code",
   "source": [
    "dataset.Age[dataset.Age.isnull()] = dataset.Age.mean()\n",
    "dataset.Fare[dataset.Fare.isnull()] = dataset.Fare.median()\n",
    "MaxPassEmbarked = dataset.groupby('Embarked').count()['PassengerId']\n",
    "dataset.Embarked[dataset.Embarked.isnull()] = MaxPassEmbarked[MaxPassEmbarked == MaxPassEmbarked.max()].index[0]\n",
    "dataset = dataset.drop(['Name','Ticket','Cabin','PassengerId', 'Embarked'],axis=1)\n",
    "dataset['Sex'].replace({'male':1,'female':0},inplace=True)"
   ],
   "id": "1bb626b12fc83f4c",
   "outputs": [],
   "execution_count": 554
  },
  {
   "metadata": {},
   "cell_type": "markdown",
   "source": [
    "## Работа с готовыми моделями\n",
    "Обработаем текстовые значения, необходимые для обучения модели (Sex и Embarked) с помощью библиотеки sklearn"
   ],
   "id": "3c7d244e9029ba44"
  },
  {
   "metadata": {
    "ExecuteTime": {
     "end_time": "2025-05-05T13:28:25.875251Z",
     "start_time": "2025-05-05T13:28:25.627776Z"
    }
   },
   "cell_type": "code",
   "source": [
    "target = dataset[['Survived']].to_numpy()\n",
    "train = dataset.drop(['Survived'], axis=1).to_numpy()\n",
    "X_train, X_test, y_train, y_test = train_test_split(train, target, test_size=0.25)\n",
    "\n",
    "model_knn = KNeighborsClassifier(n_neighbors = 7, p=0.25, algorithm='auto')\n",
    "model_lr = LogisticRegression(solver='liblinear', class_weight='balanced')\n",
    "rf_model = RandomForestClassifier(n_estimators=13, random_state=150, max_features=4, max_depth=11)\n",
    "gb_model = GradientBoostingClassifier(n_estimators=14, random_state=7, learning_rate=0.5)\n",
    "mlp_model = MLPClassifier(hidden_layer_sizes=(150,), max_iter=120, random_state=100)\n",
    "model_dtc = DecisionTreeClassifier(criterion='gini', random_state=1, min_weight_fraction_leaf=0.12)\n",
    "\n",
    "model_lr.fit(X_train, y_train)\n",
    "model_dtc.fit(X_train, y_train)\n",
    "model_knn.fit(X_train, y_train)\n",
    "rf_model.fit(X_train, y_train)\n",
    "gb_model.fit(X_train, y_train)\n",
    "mlp_model.fit(X_train, y_train)\n",
    "\n",
    "y_prob_decision_tree = model_dtc.predict_proba(X_test)[:, 1]\n",
    "y_prob_logistic = model_lr.predict_proba(X_test)[:, 1]\n",
    "y_prob_knn = model_knn.predict_proba(X_test)[:, 1]\n",
    "rf_pred = rf_model.predict(X_test)\n",
    "gb_pred = gb_model.predict(X_test)\n",
    "mlp_pred = mlp_model.predict(X_test)\n",
    "\n",
    "roc_auc_decision_tree = roc_auc_score(y_test, y_prob_decision_tree)\n",
    "roc_auc_knn = roc_auc_score(y_test, y_prob_knn)\n",
    "roc_auc_rf = roc_auc_score(y_test, rf_pred)\n",
    "roc_auc_gb = roc_auc_score(y_test, gb_pred)\n",
    "roc_auc_mlp = roc_auc_score(y_test, mlp_pred)\n",
    "roc_auc_logistic = roc_auc_score(y_test, y_prob_logistic)\n",
    "\n",
    "print(f'ROC AUC of Logistic Regression: {roc_auc_logistic}')\n",
    "print(f'ROC AUC of Decision Tree: {roc_auc_decision_tree}')\n",
    "print(f'ROC AUC of K-Nearest Neighbors: {roc_auc_knn}')\n",
    "print(f'ROC AUC of Random Forest: {roc_auc_rf}')\n",
    "print(f'ROC AUC of Gradient Boosting: {roc_auc_gb}')\n",
    "print(f'ROC AUC of MLP: {roc_auc_mlp}')"
   ],
   "id": "9d2d00a4cd3101a4",
   "outputs": [
    {
     "name": "stdout",
     "output_type": "stream",
     "text": [
      "ROC AUC of Logistic Regression: 0.8240963855421688\n",
      "ROC AUC of Decision Tree: 0.8271944922547332\n",
      "ROC AUC of K-Nearest Neighbors: 0.8227194492254734\n",
      "ROC AUC of Random Forest: 0.7987091222030981\n",
      "ROC AUC of Gradient Boosting: 0.7806368330464716\n",
      "ROC AUC of MLP: 0.7531841652323581\n"
     ]
    }
   ],
   "execution_count": 555
  },
  {
   "metadata": {
    "ExecuteTime": {
     "end_time": "2025-05-05T13:28:27.069Z",
     "start_time": "2025-05-05T13:28:25.880042Z"
    }
   },
   "cell_type": "code",
   "source": [
    "#К-блочная кросс валидация\n",
    "def cross_valid(model, target, train, name):\n",
    "    kf = KFold(n_splits=5)\n",
    "\n",
    "    accuracies = []\n",
    "    for train_index, test_index in kf.split(target):\n",
    "        X_train, X_test = train[train_index], train[test_index]\n",
    "        y_train, y_test = target[train_index], target[test_index]\n",
    "        model.fit(X_train, y_train)\n",
    "        predictions = model.predict(X_test)\n",
    "        accuracy = accuracy_score(y_test, predictions)\n",
    "        accuracies.append(accuracy)\n",
    "\n",
    "    print(\"Средняя точность \" + name + f': {np.mean(accuracies)}')\n",
    "\n",
    "cross_valid(model_lr, target, train, \"Logistic Regression\")\n",
    "cross_valid(model_dtc, target, train, \"Decision Tree\")\n",
    "cross_valid(model_knn, target, train, \"K-Nearest Neighbors\")\n",
    "cross_valid(rf_model, target, train, \"Random Forest\")\n",
    "cross_valid(gb_model, target, train, \"Gradient Boosting\")\n",
    "cross_valid(mlp_model, target, train, \"MLP\")"
   ],
   "id": "deff91352ee2b71b",
   "outputs": [
    {
     "name": "stdout",
     "output_type": "stream",
     "text": [
      "Средняя точность Logistic Regression: 0.7766618542464379\n",
      "Средняя точность Decision Tree: 0.7732785135898562\n",
      "Средняя точность K-Nearest Neighbors: 0.8013997865796247\n",
      "Средняя точность Random Forest: 0.814889209716904\n",
      "Средняя точность Gradient Boosting: 0.8181972255351202\n",
      "Средняя точность MLP: 0.7890527901575545\n"
     ]
    }
   ],
   "execution_count": 556
  },
  {
   "metadata": {},
   "cell_type": "markdown",
   "source": [
    "## Итоги\n",
    "Лучшими моделями для решения проблемы выживших на Титанике является Random Forest и Gradient Boosting"
   ],
   "id": "f6ff45451eaf10f5"
  }
 ],
 "metadata": {
  "kernelspec": {
   "display_name": "Python 3",
   "language": "python",
   "name": "python3"
  },
  "language_info": {
   "codemirror_mode": {
    "name": "ipython",
    "version": 2
   },
   "file_extension": ".py",
   "mimetype": "text/x-python",
   "name": "python",
   "nbconvert_exporter": "python",
   "pygments_lexer": "ipython2",
   "version": "2.7.6"
  }
 },
 "nbformat": 4,
 "nbformat_minor": 5
}
